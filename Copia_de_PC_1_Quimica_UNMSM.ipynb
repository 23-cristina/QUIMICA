{
  "nbformat": 4,
  "nbformat_minor": 0,
  "metadata": {
    "colab": {
      "provenance": [],
      "include_colab_link": true
    },
    "kernelspec": {
      "name": "python3",
      "display_name": "Python 3"
    },
    "language_info": {
      "name": "python"
    },
    "widgets": {
      "application/vnd.jupyter.widget-state+json": {
        "d4691835f4474884829213796343340f": {
          "model_module": "faerun-notebook",
          "model_name": "SmilesDrawerModel",
          "model_module_version": "^0.1.5",
          "state": {
            "_dom_classes": [],
            "_model_module": "faerun-notebook",
            "_model_module_version": "^0.1.5",
            "_model_name": "SmilesDrawerModel",
            "_view_count": null,
            "_view_module": "faerun-notebook",
            "_view_module_version": "^0.1.5",
            "_view_name": "SmilesDrawerView",
            "background": "#1e1e1e",
            "border": true,
            "layout": "IPY_MODEL_35b7ce94b6e84d4c985918e50984dcd7",
            "options": {
              "scale": 1.25
            },
            "output": "svg",
            "theme": "dark",
            "value": [
              [
                "Rxn",
                "C(C1C(C(C(C(O1)O)O)O)O)O.O=O>>C(=O)=O.O"
              ]
            ]
          }
        },
        "35b7ce94b6e84d4c985918e50984dcd7": {
          "model_module": "@jupyter-widgets/base",
          "model_name": "LayoutModel",
          "model_module_version": "1.2.0",
          "state": {
            "_model_module": "@jupyter-widgets/base",
            "_model_module_version": "1.2.0",
            "_model_name": "LayoutModel",
            "_view_count": null,
            "_view_module": "@jupyter-widgets/base",
            "_view_module_version": "1.2.0",
            "_view_name": "LayoutView",
            "align_content": null,
            "align_items": null,
            "align_self": null,
            "border": null,
            "bottom": null,
            "display": null,
            "flex": null,
            "flex_flow": null,
            "grid_area": null,
            "grid_auto_columns": null,
            "grid_auto_flow": null,
            "grid_auto_rows": null,
            "grid_column": null,
            "grid_gap": null,
            "grid_row": null,
            "grid_template_areas": null,
            "grid_template_columns": null,
            "grid_template_rows": null,
            "height": null,
            "justify_content": null,
            "justify_items": null,
            "left": null,
            "margin": null,
            "max_height": null,
            "max_width": null,
            "min_height": null,
            "min_width": null,
            "object_fit": null,
            "object_position": null,
            "order": null,
            "overflow": null,
            "overflow_x": null,
            "overflow_y": null,
            "padding": null,
            "right": null,
            "top": null,
            "visibility": null,
            "width": null
          }
        }
      }
    }
  },
  "cells": [
    {
      "cell_type": "markdown",
      "metadata": {
        "id": "view-in-github",
        "colab_type": "text"
      },
      "source": [
        "<a href=\"https://colab.research.google.com/github/23-cristina/QUIMICA/blob/main/Copia_de_PC_1_Quimica_UNMSM.ipynb\" target=\"_parent\"><img src=\"https://colab.research.google.com/assets/colab-badge.svg\" alt=\"Open In Colab\"/></a>"
      ]
    },
    {
      "cell_type": "markdown",
      "source": [
        "$$\\Large \\textit{UNMSM | Química}$$\n",
        "$$\\large \\textbf{PC Nº1 | Materia y clasificación}$$\n",
        "\n",
        "_Profesor: Jesus Alvarado Huayhuaz_"
      ],
      "metadata": {
        "id": "sDJAjbaQOj4x"
      }
    },
    {
      "cell_type": "markdown",
      "source": [
        "Todas las indicaciones para la presentación de la práctica son explicadas en clase y brindadas en el material de enunciado de preguntas en formato PDF."
      ],
      "metadata": {
        "id": "_DsTzWLoP7Fy"
      }
    },
    {
      "cell_type": "markdown",
      "source": [
        "## Pregunta 1: Sobre el ABC de python (4 puntos)"
      ],
      "metadata": {
        "id": "obD7c2igOD6t"
      }
    },
    {
      "cell_type": "markdown",
      "source": [
        "Durante la semana de revisión del material \"ABC de python\", reflexiona sobre qué conceptos aprendiste con claridad y cuáles consideras los más desafiantes. A continuación resuelve los siguiente ejercicios, puedes ayudarte del material en http://bit.ly/3YKICSZ."
      ],
      "metadata": {
        "id": "emt93S7dL7QH"
      }
    },
    {
      "cell_type": "code",
      "source": [
        "# Imprime la versión de python que usas y las palabras reservadas de python para esa versión.\n",
        "print(\"Version de phyton\")\n",
        "!python --version\n",
        "\n",
        "print(\"Palabras reservadas de phyton\")\n",
        "help(\"keywords\")"
      ],
      "metadata": {
        "id": "6mJvqMN0LTU8",
        "colab": {
          "base_uri": "https://localhost:8080/"
        },
        "outputId": "2ee35def-686c-4b81-9c61-4cc0b13df284"
      },
      "execution_count": null,
      "outputs": [
        {
          "output_type": "stream",
          "name": "stdout",
          "text": [
            "Version de phyton\n",
            "Python 3.10.12\n",
            "Palabras reservadas de phyton\n",
            "\n",
            "Here is a list of the Python keywords.  Enter any keyword to get more help.\n",
            "\n",
            "False               class               from                or\n",
            "None                continue            global              pass\n",
            "True                def                 if                  raise\n",
            "and                 del                 import              return\n",
            "as                  elif                in                  try\n",
            "assert              else                is                  while\n",
            "async               except              lambda              with\n",
            "await               finally             nonlocal            yield\n",
            "break               for                 not                 \n",
            "\n"
          ]
        }
      ]
    },
    {
      "cell_type": "code",
      "source": [
        "# Crea una matriz de 3x3 e imprime la suma de los elementos en su diagonal (traza).\n",
        "\n",
        "A = [[1, 2, 3],[4, 5, 6],[7, 8, 9]]\n",
        "\n",
        "suma_diagonal= A[0][0]+A[1][1]+A[2][2]\n",
        "\n",
        "print(\"suma de la diagonal:\", suma_diagonal)\n"
      ],
      "metadata": {
        "id": "MxDzGypdLTXh",
        "colab": {
          "base_uri": "https://localhost:8080/"
        },
        "outputId": "b4892ed2-df90-414c-b50c-daaacaef5d26"
      },
      "execution_count": null,
      "outputs": [
        {
          "output_type": "stream",
          "name": "stdout",
          "text": [
            "suma de la diagonal: 15\n"
          ]
        }
      ]
    },
    {
      "cell_type": "code",
      "source": [
        "# Guarda como variable la masa atómica de los elementos C, H y O, e imprime la masa molecular del etanol.\n",
        "\n",
        "C = 12\n",
        "H = 1\n",
        "O = 16\n",
        "\n",
        "etanol = (C*2) + (H*6) + (O*1)\n",
        "print(\"masa molecular del etanol:\", etanol)"
      ],
      "metadata": {
        "id": "MyhNX7JmLTSe",
        "colab": {
          "base_uri": "https://localhost:8080/"
        },
        "outputId": "3fde1ff7-d60a-4e28-b747-1a80225bbe27"
      },
      "execution_count": null,
      "outputs": [
        {
          "output_type": "stream",
          "name": "stdout",
          "text": [
            "masa molecular del etanol: 46\n"
          ]
        }
      ]
    },
    {
      "cell_type": "code",
      "source": [
        "# Busca la temperatura de fusión en Celsius de 5 metales y guárdalos en una lista. Imprime las temperaturas en Kelvin\n",
        "\n",
        "#temperaturas de fusión en Celsius de 5 metales:\n",
        "Plata=962\n",
        "Oro=1064\n",
        "Estaño=232\n",
        "Hierro=1538\n",
        "Zinc=420\n",
        "\n",
        "temperaturas_fusion_celsius = [962, 1064, 232, 1538, 420]\n",
        "temperaturas_fusion_kelvin = [t + 273 for t in temperaturas_fusion_celsius]\n",
        "\n",
        "print(\"Temperaturas de fusión en Kelvin:\",temperaturas_fusion_kelvin)\n"
      ],
      "metadata": {
        "id": "NCOnJ0FwgLLc",
        "colab": {
          "base_uri": "https://localhost:8080/"
        },
        "outputId": "33039730-9e9d-45f4-ba84-a7237506ef59"
      },
      "execution_count": null,
      "outputs": [
        {
          "output_type": "stream",
          "name": "stdout",
          "text": [
            "Temperaturas de fusión en Kelvin: [1235, 1337, 505, 1811, 693]\n"
          ]
        }
      ]
    },
    {
      "cell_type": "markdown",
      "source": [
        "## Pregunta 2: Operaciones (4 puntos)"
      ],
      "metadata": {
        "id": "epzOadagLfPi"
      }
    },
    {
      "cell_type": "markdown",
      "source": [
        "Escribe un programa que lea repetidamente elementos químicos en español hasta que el usuario introduzca “fin”. Una vez se haya introducido “fin”, muestra por pantalla (o sea imprime) el total de elementos ingresados. Si el usuario introduce cualquier otra cosa que no sea un elemento químico, detecta su fallo usando try y except, muestra un mensaje de error y pasa al siguiente elemento."
      ],
      "metadata": {
        "id": "MbAEOGPsjOWZ"
      }
    },
    {
      "cell_type": "code",
      "source": [
        "total_elementos = 0\n",
        "\n",
        "while True:\n",
        "    e = input(\"Escribe un elemento de la lista o 'fin' para imprimir): \").lower()\n",
        "\n",
        "    if e == \"fin\":\n",
        "        break\n",
        "\n",
        "    lista_elementos = [\"oro\", \"plata\", \"litio\", \"hierro\", \"carbono\", \"nitrogeno\", \"oxigeno\", \"calcio\"]\n",
        "\n",
        "    if e in lista_elementos:\n",
        "        total_elementos += 1\n",
        "    else:\n",
        "        print(f\"'{e}' no esta en la lista\")\n",
        "\n",
        "print(f\"Total de elementos químicos: {total_elementos}\")\n"
      ],
      "metadata": {
        "id": "gJGX0p5QLetj",
        "colab": {
          "base_uri": "https://localhost:8080/"
        },
        "outputId": "17fb1c78-e715-4bae-90e9-a56f9b37e47a"
      },
      "execution_count": null,
      "outputs": [
        {
          "output_type": "stream",
          "name": "stdout",
          "text": [
            "Escribe un elemento de la lista o 'fin' para imprimir): oro\n",
            "Escribe un elemento de la lista o 'fin' para imprimir): radio\n",
            "'radio' no esta en la lista\n",
            "Escribe un elemento de la lista o 'fin' para imprimir): fin\n",
            "Total de elementos químicos: 1\n"
          ]
        }
      ]
    },
    {
      "cell_type": "markdown",
      "source": [
        "# Pregunta 3: Conservación de la masa (4 puntos)"
      ],
      "metadata": {
        "id": "8gxSHpD3LZsh"
      }
    },
    {
      "cell_type": "markdown",
      "source": [
        "### Código necesario para generar la imagen"
      ],
      "metadata": {
        "id": "mMV9c3hDl7KL"
      }
    },
    {
      "cell_type": "code",
      "source": [
        "!pip install faerun-notebook==0.1.5b0\n",
        "\n",
        "import ipywidgets as widgets\n",
        "from faerun_notebook import SmilesDrawer\n",
        "from google.colab import output\n",
        "output.enable_custom_widget_manager()"
      ],
      "metadata": {
        "id": "JgF8Ohtbky65"
      },
      "execution_count": null,
      "outputs": []
    },
    {
      "cell_type": "markdown",
      "source": [
        "### Reacción química"
      ],
      "metadata": {
        "id": "5sLC10D_oSrV"
      }
    },
    {
      "cell_type": "markdown",
      "source": [
        "Demuestra cómo se cumple la conservación de la masa en la siguiente reacción química. Sugerencia: hacer un balance estequiométrico y luego emplear la masa molecular de reactivos y productos."
      ],
      "metadata": {
        "id": "OVRhAzaVmD86"
      }
    },
    {
      "cell_type": "code",
      "source": [
        "SmilesDrawer(value=[(\"Rxn\", \"C(C1C(C(C(C(O1)O)O)O)O)O.O=O>>C(=O)=O.O\")], theme='dark', background=\"#1e1e1e\", options={'scale': 1.25})"
      ],
      "metadata": {
        "colab": {
          "base_uri": "https://localhost:8080/",
          "height": 289,
          "referenced_widgets": [
            "d4691835f4474884829213796343340f",
            "35b7ce94b6e84d4c985918e50984dcd7"
          ]
        },
        "id": "CC0mAXWmnYyN",
        "outputId": "fb9a2a33-11fa-47cd-bffe-ce9c285db1d8"
      },
      "execution_count": null,
      "outputs": [
        {
          "output_type": "display_data",
          "data": {
            "text/plain": [
              "SmilesDrawer(background='#1e1e1e', options={'scale': 1.25}, theme='dark', value=[('Rxn', 'C(C1C(C(C(C(O1)O)O)O…"
            ],
            "application/vnd.jupyter.widget-view+json": {
              "version_major": 2,
              "version_minor": 0,
              "model_id": "d4691835f4474884829213796343340f"
            }
          },
          "metadata": {
            "application/vnd.jupyter.widget-view+json": {
              "colab": {
                "custom_widget_manager": {
                  "url": "https://ssl.gstatic.com/colaboratory-static/widgets/colab-cdn-widget-manager/b3e629b1971e1542/manager.min.js"
                }
              }
            }
          }
        }
      ]
    },
    {
      "cell_type": "code",
      "source": [
        "C = 12\n",
        "H = 1\n",
        "O = 16\n",
        "\n",
        "masa_molecular_oxigeno= O*2\n",
        "masa_molecular_glucosa= C*6 + H*12 + O*6\n",
        "masa_molecular_agua= H*2 + O*1\n",
        "masa_molecular_dioxido_carbono= C*1 + O*2\n",
        "\n",
        "#balanceando la reacción química > C6H12O6 + 6O2 == 6CO2 + 6H2O\n",
        "#Entonces\n",
        "masa_reactantes= masa_molecular_glucosa + 6*masa_molecular_oxigeno\n",
        "print(\"masa molecular de los reactantes:\", masa_reactantes)\n",
        "masa_productos= 6*masa_molecular_dioxido_carbono + 6*masa_molecular_agua\n",
        "print(\"masa molecular de los productos:\", masa_productos)\n",
        "#Se demuestra igualdad, por lo tanto se conserva la masa"
      ],
      "metadata": {
        "colab": {
          "base_uri": "https://localhost:8080/"
        },
        "id": "z8-MupTR9hhy",
        "outputId": "1db37b9e-1439-4999-c9ae-456fc6ce862a"
      },
      "execution_count": null,
      "outputs": [
        {
          "output_type": "stream",
          "name": "stdout",
          "text": [
            "masa molecular de los reactantes: 372\n",
            "masa molecular de los productos: 372\n"
          ]
        }
      ]
    },
    {
      "cell_type": "markdown",
      "source": [
        "## Pregunta 4: Notación científica (4 puntos)"
      ],
      "metadata": {
        "id": "Rh-nAUiKhJNB"
      }
    },
    {
      "cell_type": "markdown",
      "source": [
        "Imprime las siguientes operaciones según la notación científica:\n",
        "\n",
        "(1) $1.321 \\times 10^{-4} + 8.5 \\times 10^{-2}$\n",
        "\n",
        "(2) $1.71 \\times 10^{3} - 2.01 \\times 10^{2}\\$\n",
        "\n",
        "(3) $(7.4 \\times 10^5)(7.2 \\times 10^4)$\n",
        "\n",
        "(4) $(7.4 \\times 10^5)/(7.2 \\times 10^4)$"
      ],
      "metadata": {
        "id": "NIkI45Xdqqnt"
      }
    },
    {
      "cell_type": "code",
      "source": [
        "#1\n",
        "1.321*10**-4 + 8.5*10**-2"
      ],
      "metadata": {
        "colab": {
          "base_uri": "https://localhost:8080/"
        },
        "id": "9gqyAcUGB4LR",
        "outputId": "605a6dbc-9781-4414-ca4b-cf69a9b79c39"
      },
      "execution_count": 1,
      "outputs": [
        {
          "output_type": "execute_result",
          "data": {
            "text/plain": [
              "0.0851321"
            ]
          },
          "metadata": {},
          "execution_count": 1
        }
      ]
    },
    {
      "cell_type": "code",
      "source": [
        "def redondear_cifras(n, cifras_significativas):\n",
        "    if n == 0:\n",
        "        return 0.0\n",
        "\n",
        "    potencia = cifras_significativas - 1 - int(math.floor(math.log10(abs(n))))\n",
        "\n",
        "    numero_redondeado = round(n, potencia)\n",
        "\n",
        "    return numero_redondeado\n",
        "\n",
        "import math\n",
        "\n",
        "n = 0.0851321\n",
        "cifra_significativa_deseada = 2\n",
        "r = redondear_cifras(n, cifra_significativa_deseada)\n",
        "print(r)\n"
      ],
      "metadata": {
        "colab": {
          "base_uri": "https://localhost:8080/"
        },
        "id": "_FVkn600WEEx",
        "outputId": "23be5cb1-c37b-4bf4-dcfd-3897c82adb6e"
      },
      "execution_count": 27,
      "outputs": [
        {
          "output_type": "stream",
          "name": "stdout",
          "text": [
            "0.085\n"
          ]
        }
      ]
    },
    {
      "cell_type": "code",
      "source": [
        "#2\n",
        "1.71*10**3 - 2.01*10**2"
      ],
      "metadata": {
        "colab": {
          "base_uri": "https://localhost:8080/"
        },
        "id": "g25HfYZWFWuy",
        "outputId": "e7d432c3-b1e1-4b7e-b9f7-e361b6c0eb7f"
      },
      "execution_count": 12,
      "outputs": [
        {
          "output_type": "execute_result",
          "data": {
            "text/plain": [
              "1509.0"
            ]
          },
          "metadata": {},
          "execution_count": 12
        }
      ]
    },
    {
      "cell_type": "code",
      "source": [
        "def redondear_cifras(n, cifras_significativas):\n",
        "    if n == 0:\n",
        "        return 0.0\n",
        "\n",
        "    potencia = cifras_significativas - 1 - int(math.floor(math.log10(abs(n))))\n",
        "\n",
        "    numero_redondeado = round(n, potencia)\n",
        "\n",
        "    return numero_redondeado\n",
        "\n",
        "import math\n",
        "\n",
        "n = 1509.0\n",
        "cifra_significativa_deseada = 3\n",
        "r = redondear_cifras(n, cifra_significativa_deseada)\n",
        "print(r)\n"
      ],
      "metadata": {
        "colab": {
          "base_uri": "https://localhost:8080/"
        },
        "id": "MscZja3BaGsS",
        "outputId": "b052c64f-6aa3-4f52-c33f-5602981d2e8f"
      },
      "execution_count": 28,
      "outputs": [
        {
          "output_type": "stream",
          "name": "stdout",
          "text": [
            "1510.0\n"
          ]
        }
      ]
    },
    {
      "cell_type": "code",
      "source": [
        "#3\n",
        "(7.4*10**5)*(7.2*10**4)"
      ],
      "metadata": {
        "colab": {
          "base_uri": "https://localhost:8080/"
        },
        "id": "d3I4XUeKGaNy",
        "outputId": "b9a0cefc-c877-4736-ee1f-fa278986d117"
      },
      "execution_count": 15,
      "outputs": [
        {
          "output_type": "execute_result",
          "data": {
            "text/plain": [
              "53280000000.0"
            ]
          },
          "metadata": {},
          "execution_count": 15
        }
      ]
    },
    {
      "cell_type": "code",
      "source": [
        "def redondear_cifras(n, cifras_significativas):\n",
        "    if n == 0:\n",
        "        return 0.0\n",
        "\n",
        "    potencia = cifras_significativas - 1 - int(math.floor(math.log10(abs(n))))\n",
        "\n",
        "    numero_redondeado = round(n, potencia)\n",
        "\n",
        "    return numero_redondeado\n",
        "\n",
        "import math\n",
        "\n",
        "n = 53280000000.0\n",
        "cifra_significativa_deseada = 2\n",
        "r = redondear_cifras(n, cifra_significativa_deseada)\n",
        "print(r)"
      ],
      "metadata": {
        "colab": {
          "base_uri": "https://localhost:8080/"
        },
        "id": "eEvAvqoWYFwC",
        "outputId": "0add877c-7842-4ba0-fbcb-42eafccd2eb7"
      },
      "execution_count": 29,
      "outputs": [
        {
          "output_type": "stream",
          "name": "stdout",
          "text": [
            "53000000000.0\n"
          ]
        }
      ]
    },
    {
      "cell_type": "code",
      "source": [
        "#4\n",
        "(7.4*10**5)/(7.2*10**4)"
      ],
      "metadata": {
        "colab": {
          "base_uri": "https://localhost:8080/"
        },
        "id": "SiBaPbFhG5uK",
        "outputId": "54f58b62-4f7c-4431-dc8d-d823d7089c83"
      },
      "execution_count": 33,
      "outputs": [
        {
          "output_type": "execute_result",
          "data": {
            "text/plain": [
              "10.277777777777779"
            ]
          },
          "metadata": {},
          "execution_count": 33
        }
      ]
    },
    {
      "cell_type": "code",
      "source": [
        "def redondear_cifras(n, cifras_significativas):\n",
        "    if n == 0:\n",
        "        return 0.0\n",
        "\n",
        "    potencia = cifras_significativas - 1 - int(math.floor(math.log10(abs(n))))\n",
        "\n",
        "    numero_redondeado = round(n, potencia)\n",
        "\n",
        "    return numero_redondeado\n",
        "\n",
        "import math\n",
        "\n",
        "n = 10.277777777777779\n",
        "cifra_significativa_deseada = 2\n",
        "r = redondear_cifras(n, cifra_significativa_deseada)\n",
        "print(r)\n"
      ],
      "metadata": {
        "colab": {
          "base_uri": "https://localhost:8080/"
        },
        "id": "d5XiwUZ7Ynx6",
        "outputId": "df7d2f68-d615-4f0f-bfab-b2aff0f0bf4a"
      },
      "execution_count": 32,
      "outputs": [
        {
          "output_type": "stream",
          "name": "stdout",
          "text": [
            "10.0\n"
          ]
        }
      ]
    },
    {
      "cell_type": "markdown",
      "source": [
        "## Pregunta 5: Método científico (4 puntos)"
      ],
      "metadata": {
        "id": "CuzCcXJghR14"
      }
    },
    {
      "cell_type": "markdown",
      "source": [
        "Artículo: https://bit.ly/3surZ1W\n",
        "Leer el siguiente artículo y explica cómo es aplicado el método científico. Emplea como máximo 300 palabras."
      ],
      "metadata": {
        "id": "WngRSR-Rhmx1"
      }
    },
    {
      "cell_type": "markdown",
      "source": [
        "El uso del método científico es evidente para descartar la propiedad de superconductor del LK_99. El estudio realizado por un grupo surcoreano demostraba que dicha propiedad superconductora  funcionaba a temperatura y presión ambiente. Sin embargo, recientes estudios desmienten lo anterior descubierto.\n",
        "La observación es el primer paso del método científico, en este caso serían los vídeos tomado por el equipo surcoreano que mostraba el material LK_99 plateado con forma de moneda bamboleándose sobre un imán. Esto nos lleva al segundo paso, el planteamiento de la hipótesis, nos preguntamos si las evidencias presentadas por el equipo surcoreano demuestran que el LK_99 es un superconductor. La experimentación de diversos grupos científicos descartaron tales propiedades, llegando a la conclusión de que las impurezas del material (sulfuro de cobre) eran responsables de fuertes caídas de resistividad eléctrica y la levitación parcial sobre un imán, las cuales se evidencian en superconductores. En un material puro del LK_99 se evidencia una resistencia demasiado alta con propiedades  no lo suficientes para una levitación parcial, en resumen el material se comporta más como un aislante que como un superconductor.\n"
      ],
      "metadata": {
        "id": "jW5AUE17adQ-"
      }
    }
  ]
}